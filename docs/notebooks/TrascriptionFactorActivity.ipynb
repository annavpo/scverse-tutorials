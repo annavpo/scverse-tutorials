{
 "cells": [
  {
   "cell_type": "markdown",
   "id": "ba83c36d",
   "metadata": {},
   "source": [
    "# Transcription factor activity inference"
   ]
  },
  {
   "cell_type": "markdown",
   "id": "4f7a1504",
   "metadata": {},
   "source": [
    "## Load packages"
   ]
  },
  {
   "cell_type": "markdown",
   "id": "956d287f",
   "metadata": {},
   "source": [
    "We need to load the relevant packages, scanpy to handle scRNA-seq data and decoupler to use statistical methods."
   ]
  },
  {
   "cell_type": "code",
   "execution_count": 65,
   "id": "566b1a4d",
   "metadata": {},
   "outputs": [],
   "source": [
    "import scanpy as sc\n",
    "import decoupler as dc\n",
    "\n",
    "\n",
    "# Only needed for processing\n",
    "import numpy as np\n",
    "import pandas as pd\n",
    "\n",
    "# Needed for some plotting\n",
    "import matplotlib.pyplot as plt"
   ]
  },
  {
   "cell_type": "markdown",
   "id": "effd4534",
   "metadata": {},
   "source": [
    "### Motivation: \n",
    "\n",
    "scRNA-seq yields many molecular readouts that are hard to interpret by themselves. One way of summarizing this information is by infering transcription factor (TF) activities from our trascriptomics data from prior knowledge.\n",
    "\n",
    "In this notebook we showcase how to use decoupler for transcription factor (TF) and pathway enrichment from a human data-set. The data consists of ~5k Blood myeloid cells from healthy and COVID-19 infected patients available in the Single Cell Expression Atlas [here](https://www.ebi.ac.uk/gxa/sc/experiments/E-MTAB-9221/results/tsne?plotType=umap&plotOption=20).\n",
    "\n",
    "\n",
    "For the TF activity inference analysis we will need a) a gene regulatory network (GRN) and b) a statistical method.\n",
    "\n",
    "a) **Gene Regulatory Network(GRN)**: \n",
    "\n",
    "[CollecTRI](https://github.com/saezlab/CollecTRI) is a comprehensive resource containing a curated collection of TFs and their transcriptional targets compiled from 12 different resources. This collection provides an increased coverage of transcription factors and a superior performance in identifying perturbed TFs compared to our previous [DoRothEA](https://saezlab.github.io/dorothea/) network and other literature based GRNs. Similar to DoRothEA, interactions are weighted by their mode of regulation (activation or inhibition).\n",
    "\n",
    "For this example we will use the human version (mouse and rat are also available). We can use `decoupler` to retrieve it from `omnipath`. The argument `split_complexes` keeps complexes or splits them into subunits, by default we recommend to keep complexes together.\n",
    "\n",
    "Note! : In this tutorial we use the network CollecTRI, but we could use any other GRN coming from an inference method such as CellOracle, pySCENIC or SCENIC+.\n",
    "\n",
    "\n"
   ]
  },
  {
   "cell_type": "markdown",
   "id": "40314c83",
   "metadata": {},
   "source": [
    "<div class=\"alert alert-info\">\n",
    "\n",
    "**Note**\n",
    "\n",
    "In this tutorial we use the network CollecTRI, but we could use any other GRN coming from an inference method such as [CellOracle](https://morris-lab.github.io/CellOracle.documentation/), [pySCENIC](https://pyscenic.readthedocs.io/en/latest/) or [SCENIC+](https://scenicplus.readthedocs.io/en/latest/). </div>"
   ]
  },
  {
   "cell_type": "code",
   "execution_count": 15,
   "id": "bc51ad0e",
   "metadata": {},
   "outputs": [],
   "source": [
    "# Retrieve CollecTRI gene regulatory network\n",
    "collectri = dc.get_collectri(organism='human', split_complexes=False)"
   ]
  },
  {
   "cell_type": "code",
   "execution_count": 16,
   "id": "b1e3afd0",
   "metadata": {},
   "outputs": [
    {
     "data": {
      "text/html": [
       "<div>\n",
       "<style scoped>\n",
       "    .dataframe tbody tr th:only-of-type {\n",
       "        vertical-align: middle;\n",
       "    }\n",
       "\n",
       "    .dataframe tbody tr th {\n",
       "        vertical-align: top;\n",
       "    }\n",
       "\n",
       "    .dataframe thead th {\n",
       "        text-align: right;\n",
       "    }\n",
       "</style>\n",
       "<table border=\"1\" class=\"dataframe\">\n",
       "  <thead>\n",
       "    <tr style=\"text-align: right;\">\n",
       "      <th></th>\n",
       "      <th>source</th>\n",
       "      <th>target</th>\n",
       "      <th>weight</th>\n",
       "      <th>PMID</th>\n",
       "    </tr>\n",
       "  </thead>\n",
       "  <tbody>\n",
       "    <tr>\n",
       "      <th>0</th>\n",
       "      <td>MYC</td>\n",
       "      <td>TERT</td>\n",
       "      <td>1</td>\n",
       "      <td>10022128;10491298;10606235;10637317;10723141;1...</td>\n",
       "    </tr>\n",
       "    <tr>\n",
       "      <th>1</th>\n",
       "      <td>SPI1</td>\n",
       "      <td>BGLAP</td>\n",
       "      <td>1</td>\n",
       "      <td>10022617</td>\n",
       "    </tr>\n",
       "    <tr>\n",
       "      <th>2</th>\n",
       "      <td>SMAD3</td>\n",
       "      <td>JUN</td>\n",
       "      <td>1</td>\n",
       "      <td>10022869;12374795</td>\n",
       "    </tr>\n",
       "    <tr>\n",
       "      <th>3</th>\n",
       "      <td>SMAD4</td>\n",
       "      <td>JUN</td>\n",
       "      <td>1</td>\n",
       "      <td>10022869;12374795</td>\n",
       "    </tr>\n",
       "    <tr>\n",
       "      <th>4</th>\n",
       "      <td>STAT5A</td>\n",
       "      <td>IL2</td>\n",
       "      <td>1</td>\n",
       "      <td>10022878;11435608;17182565;17911616;22854263;2...</td>\n",
       "    </tr>\n",
       "  </tbody>\n",
       "</table>\n",
       "</div>"
      ],
      "text/plain": [
       "   source target  weight                                               PMID\n",
       "0     MYC   TERT       1  10022128;10491298;10606235;10637317;10723141;1...\n",
       "1    SPI1  BGLAP       1                                           10022617\n",
       "2   SMAD3    JUN       1                                  10022869;12374795\n",
       "3   SMAD4    JUN       1                                  10022869;12374795\n",
       "4  STAT5A    IL2       1  10022878;11435608;17182565;17911616;22854263;2..."
      ]
     },
     "execution_count": 16,
     "metadata": {},
     "output_type": "execute_result"
    }
   ],
   "source": [
    "collectri.head()"
   ]
  },
  {
   "cell_type": "markdown",
   "id": "12725752",
   "metadata": {},
   "source": [
    "**b) Activity inference with Univariate Linear Model (ULM)**\n",
    "\n",
    "\n",
    "\n",
    "\n",
    "To infer TF enrichment scores we will run the Univariate Linear Model (`ulm`) method. For each sample in our dataset (`mat`) and each TF in our network (`net`), it fits a linear model that predicts the observed gene expression based solely on the TF’s TF-Gene interaction weights. Once fitted, the obtained t-value of the slope is the score. If it is positive, we interpret that the TF is active and if it is negative we interpret that it is inactive.\n",
    "\n",
    "<img src=\"scverse-tutorials/docs/notebooks/img/ulm.png\"/>\n",
    "\n",
    "\n"
   ]
  },
  {
   "cell_type": "markdown",
   "id": "2902d3b8",
   "metadata": {},
   "source": [
    "## Load data"
   ]
  },
  {
   "cell_type": "code",
   "execution_count": 63,
   "id": "82a1b904",
   "metadata": {},
   "outputs": [
    {
     "data": {
      "text/html": [
       "<div>\n",
       "<style scoped>\n",
       "    .dataframe tbody tr th:only-of-type {\n",
       "        vertical-align: middle;\n",
       "    }\n",
       "\n",
       "    .dataframe tbody tr th {\n",
       "        vertical-align: top;\n",
       "    }\n",
       "\n",
       "    .dataframe thead th {\n",
       "        text-align: right;\n",
       "    }\n",
       "</style>\n",
       "<table border=\"1\" class=\"dataframe\">\n",
       "  <thead>\n",
       "    <tr style=\"text-align: right;\">\n",
       "      <th></th>\n",
       "      <th>baseMean</th>\n",
       "      <th>log2FoldChange</th>\n",
       "      <th>lfcSE</th>\n",
       "      <th>stat</th>\n",
       "      <th>pvalue</th>\n",
       "      <th>padj</th>\n",
       "    </tr>\n",
       "    <tr>\n",
       "      <th>gene_symbol</th>\n",
       "      <th></th>\n",
       "      <th></th>\n",
       "      <th></th>\n",
       "      <th></th>\n",
       "      <th></th>\n",
       "      <th></th>\n",
       "    </tr>\n",
       "  </thead>\n",
       "  <tbody>\n",
       "    <tr>\n",
       "      <th>A1BG</th>\n",
       "      <td>70.471700</td>\n",
       "      <td>-0.082879</td>\n",
       "      <td>0.183383</td>\n",
       "      <td>-0.876097</td>\n",
       "      <td>0.380977</td>\n",
       "      <td>0.719800</td>\n",
       "    </tr>\n",
       "    <tr>\n",
       "      <th>A2M</th>\n",
       "      <td>36.735027</td>\n",
       "      <td>-1.071370</td>\n",
       "      <td>0.338611</td>\n",
       "      <td>-3.848842</td>\n",
       "      <td>0.000119</td>\n",
       "      <td>0.006269</td>\n",
       "    </tr>\n",
       "    <tr>\n",
       "      <th>A2MP1</th>\n",
       "      <td>15.628274</td>\n",
       "      <td>0.032486</td>\n",
       "      <td>0.289659</td>\n",
       "      <td>0.802367</td>\n",
       "      <td>0.422340</td>\n",
       "      <td>0.748127</td>\n",
       "    </tr>\n",
       "    <tr>\n",
       "      <th>AAAS</th>\n",
       "      <td>18.305878</td>\n",
       "      <td>0.040930</td>\n",
       "      <td>0.244828</td>\n",
       "      <td>0.593935</td>\n",
       "      <td>0.552555</td>\n",
       "      <td>0.827623</td>\n",
       "    </tr>\n",
       "    <tr>\n",
       "      <th>AACS</th>\n",
       "      <td>24.630203</td>\n",
       "      <td>0.060574</td>\n",
       "      <td>0.231249</td>\n",
       "      <td>0.754344</td>\n",
       "      <td>0.450643</td>\n",
       "      <td>0.766366</td>\n",
       "    </tr>\n",
       "    <tr>\n",
       "      <th>...</th>\n",
       "      <td>...</td>\n",
       "      <td>...</td>\n",
       "      <td>...</td>\n",
       "      <td>...</td>\n",
       "      <td>...</td>\n",
       "      <td>...</td>\n",
       "    </tr>\n",
       "    <tr>\n",
       "      <th>ZXDC</th>\n",
       "      <td>30.181501</td>\n",
       "      <td>-0.080694</td>\n",
       "      <td>0.225169</td>\n",
       "      <td>-0.963323</td>\n",
       "      <td>0.335385</td>\n",
       "      <td>0.687688</td>\n",
       "    </tr>\n",
       "    <tr>\n",
       "      <th>ZYG11B</th>\n",
       "      <td>101.884620</td>\n",
       "      <td>0.065714</td>\n",
       "      <td>0.231680</td>\n",
       "      <td>0.827915</td>\n",
       "      <td>0.407719</td>\n",
       "      <td>0.738730</td>\n",
       "    </tr>\n",
       "    <tr>\n",
       "      <th>ZYX</th>\n",
       "      <td>81.599910</td>\n",
       "      <td>0.153035</td>\n",
       "      <td>0.187370</td>\n",
       "      <td>1.448655</td>\n",
       "      <td>0.147434</td>\n",
       "      <td>0.487976</td>\n",
       "    </tr>\n",
       "    <tr>\n",
       "      <th>ZZEF1</th>\n",
       "      <td>820.790100</td>\n",
       "      <td>0.011441</td>\n",
       "      <td>0.179296</td>\n",
       "      <td>0.122474</td>\n",
       "      <td>0.902523</td>\n",
       "      <td>0.971216</td>\n",
       "    </tr>\n",
       "    <tr>\n",
       "      <th>ZZZ3</th>\n",
       "      <td>59.928497</td>\n",
       "      <td>-0.020703</td>\n",
       "      <td>0.196577</td>\n",
       "      <td>-0.248011</td>\n",
       "      <td>0.804126</td>\n",
       "      <td>0.935499</td>\n",
       "    </tr>\n",
       "  </tbody>\n",
       "</table>\n",
       "<p>10415 rows × 6 columns</p>\n",
       "</div>"
      ],
      "text/plain": [
       "               baseMean  log2FoldChange     lfcSE      stat    pvalue  \\\n",
       "gene_symbol                                                             \n",
       "A1BG          70.471700       -0.082879  0.183383 -0.876097  0.380977   \n",
       "A2M           36.735027       -1.071370  0.338611 -3.848842  0.000119   \n",
       "A2MP1         15.628274        0.032486  0.289659  0.802367  0.422340   \n",
       "AAAS          18.305878        0.040930  0.244828  0.593935  0.552555   \n",
       "AACS          24.630203        0.060574  0.231249  0.754344  0.450643   \n",
       "...                 ...             ...       ...       ...       ...   \n",
       "ZXDC          30.181501       -0.080694  0.225169 -0.963323  0.335385   \n",
       "ZYG11B       101.884620        0.065714  0.231680  0.827915  0.407719   \n",
       "ZYX           81.599910        0.153035  0.187370  1.448655  0.147434   \n",
       "ZZEF1        820.790100        0.011441  0.179296  0.122474  0.902523   \n",
       "ZZZ3          59.928497       -0.020703  0.196577 -0.248011  0.804126   \n",
       "\n",
       "                 padj  \n",
       "gene_symbol            \n",
       "A1BG         0.719800  \n",
       "A2M          0.006269  \n",
       "A2MP1        0.748127  \n",
       "AAAS         0.827623  \n",
       "AACS         0.766366  \n",
       "...               ...  \n",
       "ZXDC         0.687688  \n",
       "ZYG11B       0.738730  \n",
       "ZYX          0.487976  \n",
       "ZZEF1        0.971216  \n",
       "ZZZ3         0.935499  \n",
       "\n",
       "[10415 rows x 6 columns]"
      ]
     },
     "execution_count": 63,
     "metadata": {},
     "output_type": "execute_result"
    }
   ],
   "source": [
    "#First import results from previous DEA tutorial with DEseq2\n",
    "results_df = pd.read_csv(\"T_cell_DEA_pyDeseq2_results_df.csv\",index_col=0)\n",
    "results_df"
   ]
  },
  {
   "cell_type": "markdown",
   "id": "f18c7033",
   "metadata": {},
   "source": [
    "From the DEA results above, we can use the obtained gene level statistics to perform enrichment analysis. Any statistic can be used, but we recommend using the t-values instead of logFCs since t-values incorporate the significance of change in their value. We will transform the obtained t-values stored in `stats` to a wide matrix so that it can be used by decoupler:\n"
   ]
  },
  {
   "cell_type": "code",
   "execution_count": 47,
   "id": "bdb8292d",
   "metadata": {
    "scrolled": false
   },
   "outputs": [
    {
     "data": {
      "text/html": [
       "<div>\n",
       "<style scoped>\n",
       "    .dataframe tbody tr th:only-of-type {\n",
       "        vertical-align: middle;\n",
       "    }\n",
       "\n",
       "    .dataframe tbody tr th {\n",
       "        vertical-align: top;\n",
       "    }\n",
       "\n",
       "    .dataframe thead th {\n",
       "        text-align: right;\n",
       "    }\n",
       "</style>\n",
       "<table border=\"1\" class=\"dataframe\">\n",
       "  <thead>\n",
       "    <tr style=\"text-align: right;\">\n",
       "      <th>gene_symbol</th>\n",
       "      <th>A1BG</th>\n",
       "      <th>A2M</th>\n",
       "      <th>A2MP1</th>\n",
       "      <th>AAAS</th>\n",
       "      <th>AACS</th>\n",
       "      <th>AAGAB</th>\n",
       "      <th>AAK1</th>\n",
       "      <th>AAMDC</th>\n",
       "      <th>AAMP</th>\n",
       "      <th>AAR2</th>\n",
       "      <th>...</th>\n",
       "      <th>ZUP1</th>\n",
       "      <th>ZWILCH</th>\n",
       "      <th>ZWINT</th>\n",
       "      <th>ZXDA</th>\n",
       "      <th>ZXDB</th>\n",
       "      <th>ZXDC</th>\n",
       "      <th>ZYG11B</th>\n",
       "      <th>ZYX</th>\n",
       "      <th>ZZEF1</th>\n",
       "      <th>ZZZ3</th>\n",
       "    </tr>\n",
       "  </thead>\n",
       "  <tbody>\n",
       "    <tr>\n",
       "      <th>T cell</th>\n",
       "      <td>-0.876097</td>\n",
       "      <td>-3.848842</td>\n",
       "      <td>0.802367</td>\n",
       "      <td>0.593935</td>\n",
       "      <td>0.754344</td>\n",
       "      <td>-0.227301</td>\n",
       "      <td>-0.61717</td>\n",
       "      <td>0.294581</td>\n",
       "      <td>1.39611</td>\n",
       "      <td>0.505238</td>\n",
       "      <td>...</td>\n",
       "      <td>1.56492</td>\n",
       "      <td>1.396946</td>\n",
       "      <td>3.544967</td>\n",
       "      <td>-1.017032</td>\n",
       "      <td>-2.251387</td>\n",
       "      <td>-0.963323</td>\n",
       "      <td>0.827915</td>\n",
       "      <td>1.448655</td>\n",
       "      <td>0.122474</td>\n",
       "      <td>-0.248011</td>\n",
       "    </tr>\n",
       "  </tbody>\n",
       "</table>\n",
       "<p>1 rows × 10415 columns</p>\n",
       "</div>"
      ],
      "text/plain": [
       "gene_symbol      A1BG       A2M     A2MP1      AAAS      AACS     AAGAB  \\\n",
       "T cell      -0.876097 -3.848842  0.802367  0.593935  0.754344 -0.227301   \n",
       "\n",
       "gene_symbol     AAK1     AAMDC     AAMP      AAR2  ...     ZUP1    ZWILCH  \\\n",
       "T cell      -0.61717  0.294581  1.39611  0.505238  ...  1.56492  1.396946   \n",
       "\n",
       "gene_symbol     ZWINT      ZXDA      ZXDB      ZXDC    ZYG11B       ZYX  \\\n",
       "T cell       3.544967 -1.017032 -2.251387 -0.963323  0.827915  1.448655   \n",
       "\n",
       "gene_symbol     ZZEF1      ZZZ3  \n",
       "T cell       0.122474 -0.248011  \n",
       "\n",
       "[1 rows x 10415 columns]"
      ]
     },
     "execution_count": 47,
     "metadata": {},
     "output_type": "execute_result"
    }
   ],
   "source": [
    "#from the DEA results above, we can use the obtained gene level statistics to perform enrichment analysis. Any statistic can be used, but we recommend using the t-values instead of logFCs since t-values incorporate the significance of change in their value. We will transform the obtained t-values stored in stats to a wide matrix so that it can be used by decoupler:\n",
    "mat = results_df[['stat']].T.rename(index={'stat': 'T cell'})\n",
    "mat"
   ]
  },
  {
   "cell_type": "markdown",
   "id": "5db2818f",
   "metadata": {},
   "source": [
    "We can run `ulm` with a one-liner:"
   ]
  },
  {
   "cell_type": "code",
   "execution_count": 50,
   "id": "7a618758",
   "metadata": {},
   "outputs": [
    {
     "data": {
      "text/html": [
       "<div>\n",
       "<style scoped>\n",
       "    .dataframe tbody tr th:only-of-type {\n",
       "        vertical-align: middle;\n",
       "    }\n",
       "\n",
       "    .dataframe tbody tr th {\n",
       "        vertical-align: top;\n",
       "    }\n",
       "\n",
       "    .dataframe thead th {\n",
       "        text-align: right;\n",
       "    }\n",
       "</style>\n",
       "<table border=\"1\" class=\"dataframe\">\n",
       "  <thead>\n",
       "    <tr style=\"text-align: right;\">\n",
       "      <th></th>\n",
       "      <th>ABL1</th>\n",
       "      <th>AHR</th>\n",
       "      <th>AIRE</th>\n",
       "      <th>AP1</th>\n",
       "      <th>APEX1</th>\n",
       "      <th>AR</th>\n",
       "      <th>ARID3B</th>\n",
       "      <th>ARID4A</th>\n",
       "      <th>ARID5B</th>\n",
       "      <th>ARNT</th>\n",
       "      <th>...</th>\n",
       "      <th>ZNF350</th>\n",
       "      <th>ZNF354C</th>\n",
       "      <th>ZNF362</th>\n",
       "      <th>ZNF382</th>\n",
       "      <th>ZNF384</th>\n",
       "      <th>ZNF395</th>\n",
       "      <th>ZNF436</th>\n",
       "      <th>ZNF699</th>\n",
       "      <th>ZNF76</th>\n",
       "      <th>ZNF91</th>\n",
       "    </tr>\n",
       "  </thead>\n",
       "  <tbody>\n",
       "    <tr>\n",
       "      <th>T cell</th>\n",
       "      <td>0.670022</td>\n",
       "      <td>0.77803</td>\n",
       "      <td>-1.94135</td>\n",
       "      <td>-1.628783</td>\n",
       "      <td>0.366503</td>\n",
       "      <td>-0.427226</td>\n",
       "      <td>-0.325884</td>\n",
       "      <td>0.013003</td>\n",
       "      <td>0.410143</td>\n",
       "      <td>-0.868288</td>\n",
       "      <td>...</td>\n",
       "      <td>0.321947</td>\n",
       "      <td>-1.824237</td>\n",
       "      <td>1.113136</td>\n",
       "      <td>0.218782</td>\n",
       "      <td>-1.44051</td>\n",
       "      <td>0.845993</td>\n",
       "      <td>0.294943</td>\n",
       "      <td>-0.835089</td>\n",
       "      <td>1.839208</td>\n",
       "      <td>-2.407625</td>\n",
       "    </tr>\n",
       "  </tbody>\n",
       "</table>\n",
       "<p>1 rows × 548 columns</p>\n",
       "</div>"
      ],
      "text/plain": [
       "            ABL1      AHR     AIRE       AP1     APEX1        AR    ARID3B  \\\n",
       "T cell  0.670022  0.77803 -1.94135 -1.628783  0.366503 -0.427226 -0.325884   \n",
       "\n",
       "          ARID4A    ARID5B      ARNT  ...    ZNF350   ZNF354C    ZNF362  \\\n",
       "T cell  0.013003  0.410143 -0.868288  ...  0.321947 -1.824237  1.113136   \n",
       "\n",
       "          ZNF382   ZNF384    ZNF395    ZNF436    ZNF699     ZNF76     ZNF91  \n",
       "T cell  0.218782 -1.44051  0.845993  0.294943 -0.835089  1.839208 -2.407625  \n",
       "\n",
       "[1 rows x 548 columns]"
      ]
     },
     "execution_count": 50,
     "metadata": {},
     "output_type": "execute_result"
    }
   ],
   "source": [
    "# Infer pathway activities with ulm\n",
    "tf_acts, tf_pvals = dc.run_ulm(mat=mat, net=collectri)\n",
    "tf_acts"
   ]
  },
  {
   "cell_type": "markdown",
   "id": "ede3280b",
   "metadata": {},
   "source": [
    "Let us plot the obtained scores for the top active/inactive transcription factors:"
   ]
  },
  {
   "cell_type": "code",
   "execution_count": 61,
   "id": "8541c738",
   "metadata": {},
   "outputs": [
    {
     "data": {
      "image/png": "[encoded data removed]",
      "text/plain": [
       "<Figure size 1000x1000 with 2 Axes>"
      ]
     },
     "metadata": {},
     "output_type": "display_data"
    }
   ],
   "source": [
    "dc.plot_barplot(tf_acts, 'T cell', top=40, vertical=True,figsize=[10,10])"
   ]
  },
  {
   "cell_type": "markdown",
   "id": "3e4c2e5b",
   "metadata": {},
   "source": [
    "In accordance to the previous pathway results, T cells seem to activate for TFs responsible for cell growth (E2F4, TFDP1, E2F1).\n",
    "\n",
    "Like with pathways, we can explore how the target genes look like:"
   ]
  },
  {
   "cell_type": "code",
   "execution_count": 62,
   "id": "7241b4f7",
   "metadata": {
    "scrolled": false
   },
   "outputs": [
    {
     "data": {
      "image/png": "[encoded data removed]",
      "text/plain": [
       "<Figure size 700x500 with 2 Axes>"
      ]
     },
     "metadata": {},
     "output_type": "display_data"
    }
   ],
   "source": [
    "# Extract logFCs and pvals\n",
    "logFCs = results_df[['log2FoldChange']].T.rename(index={'log2FoldChange': 'T cell'})\n",
    "pvals = results_df[['padj']].T.rename(index={'padj': 'T cell'})\n",
    "\n",
    "# Plot\n",
    "dc.plot_volcano(logFCs, pvals, 'T cell', name='E2F4', net=collectri, top=10, sign_thr=0.05, lFCs_thr=0.5)"
   ]
  }
 ],
 "metadata": {
  "celltoolbar": "Raw Cell Format",
  "kernelspec": {
   "display_name": "Python [conda env:decoupler]",
   "language": "python",
   "name": "conda-env-decoupler-py"
  },
  "language_info": {
   "codemirror_mode": {
    "name": "ipython",
    "version": 3
   },
   "file_extension": ".py",
   "mimetype": "text/x-python",
   "name": "python",
   "nbconvert_exporter": "python",
   "pygments_lexer": "ipython3",
   "version": "3.11.6"
  },
  "toc": {
   "base_numbering": 1,
   "nav_menu": {},
   "number_sections": true,
   "sideBar": true,
   "skip_h1_title": false,
   "title_cell": "Table of Contents",
   "title_sidebar": "Contents",
   "toc_cell": false,
   "toc_position": {
    "height": "798.75px",
    "left": "183px",
    "top": "208px",
    "width": "179.492px"
   },
   "toc_section_display": true,
   "toc_window_display": false
  }
 },
 "nbformat": 4,
 "nbformat_minor": 5
}
